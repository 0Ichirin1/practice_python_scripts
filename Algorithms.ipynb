{
 "cells": [
  {
   "cell_type": "markdown",
   "metadata": {},
   "source": [
    "冒泡排序\n",
    "插入排序\n",
    "合并排序\n",
    "\n",
    "选择排序\n",
    "快速排序\n",
    "\n",
    "二分查找\n",
    "分而治之\n",
    "\n",
    "两个指针\n",
    "滑动窗口\n",
    "其他\n",
    "\n",
    "贪婪算法\n",
    "动态规划"
   ]
  },
  {
   "cell_type": "code",
   "execution_count": 6,
   "metadata": {},
   "outputs": [
    {
     "data": {
      "text/plain": [
       "55"
      ]
     },
     "execution_count": 6,
     "metadata": {},
     "output_type": "execute_result"
    }
   ],
   "source": [
    "def fib(n):\n",
    "    if n == 0 or n == 1:\n",
    "        return n\n",
    "    else:\n",
    "        return fib(n-1) + fib(n-2)\n",
    "\n",
    "fib(10)"
   ]
  },
  {
   "cell_type": "code",
   "execution_count": 7,
   "metadata": {},
   "outputs": [],
   "source": [
    "def mysum(n):\n",
    "    r = 0\n",
    "    for i in range(n+1):\n",
    "        r = r + i\n",
    "    return r"
   ]
  },
  {
   "cell_type": "code",
   "execution_count": 8,
   "metadata": {},
   "outputs": [
    {
     "data": {
      "text/plain": [
       "55"
      ]
     },
     "execution_count": 8,
     "metadata": {},
     "output_type": "execute_result"
    }
   ],
   "source": [
    "mysum(10)"
   ]
  },
  {
   "cell_type": "code",
   "execution_count": 9,
   "metadata": {},
   "outputs": [
    {
     "data": {
      "text/plain": [
       "55"
      ]
     },
     "execution_count": 9,
     "metadata": {},
     "output_type": "execute_result"
    }
   ],
   "source": [
    "def mysum2(n):\n",
    "    if n == 1:\n",
    "        return 1\n",
    "    return mysum2(n-1) + n\n",
    "\n",
    "mysum2(10)"
   ]
  },
  {
   "cell_type": "code",
   "execution_count": 10,
   "metadata": {},
   "outputs": [
    {
     "data": {
      "text/plain": [
       "55"
      ]
     },
     "execution_count": 10,
     "metadata": {},
     "output_type": "execute_result"
    }
   ],
   "source": [
    "def fibonacci(n):\n",
    "    assert(n>=0)\n",
    "    a, b = 0, 1\n",
    "    for i in range(1, n+1):\n",
    "        a, b = b, a+b\n",
    "    return a\n",
    "\n",
    "fibonacci(10)"
   ]
  },
  {
   "cell_type": "code",
   "execution_count": 12,
   "metadata": {},
   "outputs": [
    {
     "data": {
      "text/plain": [
       "(55, 34)"
      ]
     },
     "execution_count": 12,
     "metadata": {},
     "output_type": "execute_result"
    }
   ],
   "source": [
    "def fibonacci2(n):\n",
    "    assert(n>=0)\n",
    "    if(n <= 1):\n",
    "        return (n,0)\n",
    "    (a,b) = fibonacci2(n-1)\n",
    "    return (a+b,a)\n",
    "\n",
    "fibonacci2(10)"
   ]
  },
  {
   "cell_type": "code",
   "execution_count": 15,
   "metadata": {},
   "outputs": [],
   "source": [
    "def search(num_list, val):\n",
    "    if num_list == None:\n",
    "        return -1\n",
    "    \n",
    "    for i in range(0, len(num_list)):\n",
    "        if (num_list[i] == val):\n",
    "            return i\n",
    "    return -1"
   ]
  },
  {
   "cell_type": "code",
   "execution_count": 17,
   "metadata": {},
   "outputs": [],
   "source": [
    "def search2(num_list, val):\n",
    "    low = 0\n",
    "    high = len(num_list)\n",
    "    while(low <= high):\n",
    "        mid = (low + high) // 2\n",
    "        if(num_list[mid] == val):\n",
    "            return mid\n",
    "        elif(num_list[mid] < val):\n",
    "            low = mid + 1\n",
    "        elif(num_list[mid] > val):\n",
    "            high = mid - 1\n",
    "    return -1"
   ]
  },
  {
   "cell_type": "code",
   "execution_count": 16,
   "metadata": {},
   "outputs": [
    {
     "name": "stdout",
     "output_type": "stream",
     "text": [
      "-1\n",
      "5\n"
     ]
    }
   ],
   "source": [
    "num_list = [1,2,3,6,8,9]\n",
    "print(search(num_list,7))\n",
    "print(search(num_list,9))"
   ]
  },
  {
   "cell_type": "code",
   "execution_count": 18,
   "metadata": {},
   "outputs": [
    {
     "name": "stdout",
     "output_type": "stream",
     "text": [
      "4\n",
      "6\n"
     ]
    }
   ],
   "source": [
    "num_list = [1,2,3,6,7,8,9]\n",
    "print(search2(num_list,7))\n",
    "print(search2(num_list,9))"
   ]
  },
  {
   "cell_type": "markdown",
   "metadata": {},
   "source": [
    "# 冒泡排序"
   ]
  },
  {
   "cell_type": "code",
   "execution_count": 19,
   "metadata": {},
   "outputs": [],
   "source": [
    "def _bubble_sort(nums: list, reverse=False):\n",
    "    import time\n",
    "    start = time.time()\n",
    "    for i in range(len(array)):\n",
    "        "
   ]
  },
  {
   "cell_type": "code",
   "execution_count": null,
   "metadata": {},
   "outputs": [],
   "source": []
  },
  {
   "cell_type": "markdown",
   "metadata": {},
   "source": [
    "# 插入排序"
   ]
  },
  {
   "cell_type": "markdown",
   "metadata": {},
   "source": [
    "##   for i 1-length\n",
    "###   for j 0 - i (left) \n",
    "###   for j i - 0 (right)"
   ]
  },
  {
   "cell_type": "code",
   "execution_count": 20,
   "metadata": {},
   "outputs": [
    {
     "name": "stdout",
     "output_type": "stream",
     "text": [
      "[1, 2, 3, 4, 5, 6, 7, 8, 9, 10]\n"
     ]
    }
   ],
   "source": [
    "def insert_sort(items):\n",
    "    import time\n",
    "    start = time.time()\n",
    "    for sort_inx in range(1,len(items)):\n",
    "        unsort_inx = sort_inx\n",
    "        while unsort_inx > 0 and items[unsort_inx-1] > items[unsort_inx]:\n",
    "            items[unsort_inx-1],items[unsort_inx] = items[unsort_inx],items[unsort_inx-1]\n",
    "            unsort_inx = unsort_inx-1\n",
    "    t = time.time() - start\n",
    "    return len(items), t\n",
    "\n",
    "l = [1,3,5,7,9,2,4,6,8,10]\n",
    "insert_sort(l)\n",
    "print(l)"
   ]
  },
  {
   "cell_type": "code",
   "execution_count": null,
   "metadata": {},
   "outputs": [],
   "source": []
  },
  {
   "cell_type": "markdown",
   "metadata": {},
   "source": [
    "# 选择排序"
   ]
  },
  {
   "cell_type": "code",
   "execution_count": 27,
   "metadata": {},
   "outputs": [
    {
     "name": "stdout",
     "output_type": "stream",
     "text": [
      "[1, 2, 2, 3, 5, 6, 7, 9]\n"
     ]
    }
   ],
   "source": [
    "def select(array):\n",
    "    for i in range(len(array)):\n",
    "        pos_min = i\n",
    "        for j in range(i+1, len(array)):\n",
    "            if(array[j] < array[pos_min]):\n",
    "                pos_min = j        \n",
    "        array[i], array[pos_min] = array[pos_min], array[i]\n",
    "\n",
    "def mainSort():\n",
    "    mylist = [3,2,5,1,7,9,6,2]\n",
    "    select(mylist)\n",
    "    print(mylist)\n",
    "    \n",
    "mainSort()"
   ]
  },
  {
   "cell_type": "code",
   "execution_count": null,
   "metadata": {},
   "outputs": [],
   "source": []
  },
  {
   "cell_type": "markdown",
   "metadata": {},
   "source": [
    "# 合并排序"
   ]
  },
  {
   "cell_type": "code",
   "execution_count": null,
   "metadata": {},
   "outputs": [],
   "source": []
  },
  {
   "cell_type": "code",
   "execution_count": null,
   "metadata": {},
   "outputs": [],
   "source": []
  },
  {
   "cell_type": "code",
   "execution_count": null,
   "metadata": {},
   "outputs": [],
   "source": []
  },
  {
   "cell_type": "code",
   "execution_count": null,
   "metadata": {},
   "outputs": [],
   "source": []
  },
  {
   "cell_type": "code",
   "execution_count": null,
   "metadata": {},
   "outputs": [],
   "source": []
  },
  {
   "cell_type": "code",
   "execution_count": null,
   "metadata": {},
   "outputs": [],
   "source": []
  }
 ],
 "metadata": {
  "kernelspec": {
   "display_name": "Python 3",
   "language": "python",
   "name": "python3"
  },
  "language_info": {
   "codemirror_mode": {
    "name": "ipython",
    "version": 3
   },
   "file_extension": ".py",
   "mimetype": "text/x-python",
   "name": "python",
   "nbconvert_exporter": "python",
   "pygments_lexer": "ipython3",
   "version": "3.8.3"
  }
 },
 "nbformat": 4,
 "nbformat_minor": 4
}
