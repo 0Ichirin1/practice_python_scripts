{
 "cells": [
  {
   "cell_type": "code",
   "execution_count": 1,
   "metadata": {},
   "outputs": [],
   "source": [
    "import os\n",
    "import psutil\n",
    "\n",
    "# 显示当前python 程序占用内存的大小\n",
    "def show_memory_info(hint):\n",
    "    pid = os.getpid()\n",
    "    p = psutil.Process(pid)\n",
    "    info = p.memory_full_info()\n",
    "    memory = info.uss / 1024. / 1024\n",
    "    print('{} memory used: {} MB'.format(hint, memory))"
   ]
  },
  {
   "cell_type": "code",
   "execution_count": 5,
   "metadata": {},
   "outputs": [],
   "source": [
    "def test_iter():\n",
    "    show_memory_info('初始化迭代器')\n",
    "    list_1 = [i for i in range(100000000)]\n",
    "    show_memory_info('迭代器初始化之后')\n",
    "    print(sum(list_1))\n",
    "    show_memory_info('sum after called')\n",
    "    \n",
    "def test_generator():\n",
    "    show_memory_info('初始化生成器')\n",
    "    list_2 = (i for i in range(100000000))\n",
    "    show_memory_info('生成器初始化之后')\n",
    "    print(sum(list_2))\n",
    "    show_memory_info('after sum called')"
   ]
  },
  {
   "cell_type": "code",
   "execution_count": 6,
   "metadata": {},
   "outputs": [
    {
     "name": "stdout",
     "output_type": "stream",
     "text": [
      "初始化迭代器 memory used: 113.421875 MB\n",
      "迭代器初始化之后 memory used: 2147.0625 MB\n",
      "4999999950000000\n",
      "sum after called memory used: 3957.43359375 MB\n",
      "CPU times: user 4.8 s, sys: 4.12 s, total: 8.92 s\n",
      "Wall time: 9.22 s\n"
     ]
    }
   ],
   "source": [
    "%time test_iter()"
   ]
  },
  {
   "cell_type": "code",
   "execution_count": 7,
   "metadata": {},
   "outputs": [
    {
     "name": "stdout",
     "output_type": "stream",
     "text": [
      "初始化生成器 memory used: 98.71875 MB\n",
      "生成器初始化之后 memory used: 98.73828125 MB\n",
      "4999999950000000\n",
      "after sum called memory used: 98.7578125 MB\n",
      "CPU times: user 3.65 s, sys: 13.5 ms, total: 3.66 s\n",
      "Wall time: 3.67 s\n"
     ]
    }
   ],
   "source": [
    "%time test_generator()"
   ]
  },
  {
   "cell_type": "code",
   "execution_count": 8,
   "metadata": {},
   "outputs": [
    {
     "name": "stdout",
     "output_type": "stream",
     "text": [
      "140235961803584\n",
      "140235961803584\n"
     ]
    }
   ],
   "source": [
    "# 装饰器实现单例模式\n",
    "def singleton(cls):\n",
    "    instances = {}\n",
    "    def getinstance():\n",
    "        if cls not in instances:\n",
    "            instances[cls] = cls()\n",
    "        return instances[cls]\n",
    "    return getinstance\n",
    "\n",
    "@singleton\n",
    "class myClass:\n",
    "    pass\n",
    "\n",
    "# myClass 实例化时 因装饰器 传入 singleton 里 为 cls ， 然后 以实例化后的对象传入 instances字典对象，以后实例化时，不会再重复创建\n",
    "# instances['__main__.myClass']\n",
    "m1 = myClass()\n",
    "m2 = myClass()\n",
    "print(id(m1))\n",
    "print(id(m2))"
   ]
  },
  {
   "cell_type": "code",
   "execution_count": null,
   "metadata": {},
   "outputs": [],
   "source": []
  }
 ],
 "metadata": {
  "kernelspec": {
   "display_name": "Python 3",
   "language": "python",
   "name": "python3"
  },
  "language_info": {
   "codemirror_mode": {
    "name": "ipython",
    "version": 3
   },
   "file_extension": ".py",
   "mimetype": "text/x-python",
   "name": "python",
   "nbconvert_exporter": "python",
   "pygments_lexer": "ipython3",
   "version": "3.8.5"
  },
  "toc": {
   "base_numbering": 1,
   "nav_menu": {},
   "number_sections": true,
   "sideBar": true,
   "skip_h1_title": false,
   "title_cell": "Table of Contents",
   "title_sidebar": "Contents",
   "toc_cell": false,
   "toc_position": {},
   "toc_section_display": true,
   "toc_window_display": false
  }
 },
 "nbformat": 4,
 "nbformat_minor": 4
}
