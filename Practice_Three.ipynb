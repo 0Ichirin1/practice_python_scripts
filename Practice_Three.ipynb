{
 "cells": [
  {
   "cell_type": "code",
   "execution_count": 1,
   "metadata": {},
   "outputs": [
    {
     "name": "stdout",
     "output_type": "stream",
     "text": [
      "hello\n"
     ]
    }
   ],
   "source": [
    "def greet_user():\n",
    "    print('hello')\n",
    "\n",
    "greet_user()"
   ]
  },
  {
   "cell_type": "code",
   "execution_count": 2,
   "metadata": {},
   "outputs": [
    {
     "name": "stdout",
     "output_type": "stream",
     "text": [
      "hi, hello\n"
     ]
    }
   ],
   "source": [
    "def display_message(message):\n",
    "    print('hi, ' + message)\n",
    "\n",
    "display_message('hello')"
   ]
  },
  {
   "cell_type": "code",
   "execution_count": 3,
   "metadata": {},
   "outputs": [
    {
     "name": "stdout",
     "output_type": "stream",
     "text": [
      "jake\n",
      "my pet name is nan\n",
      "dog\n"
     ]
    }
   ],
   "source": [
    "def describe_pet(sex,pet_name,animal='dog'):\n",
    "    \"显示宠物信息\"\n",
    "    print(sex)\n",
    "    print('my pet name is ' + pet_name)\n",
    "    print(animal)\n",
    "    \n",
    "describe_pet('jake','nan')"
   ]
  },
  {
   "cell_type": "code",
   "execution_count": 4,
   "metadata": {},
   "outputs": [
    {
     "name": "stdout",
     "output_type": "stream",
     "text": [
      "{'first': 'jimi', 'last': 'hendrix', 'age': 22}\n"
     ]
    }
   ],
   "source": [
    "def build_person(first_name,last_name,age = ''):\n",
    "    \"返回一个字典,其中包含有关一个人的信息\"\n",
    "    person = {'first':first_name,'last':last_name}\n",
    "    if age:\n",
    "        person['age'] = age\n",
    "    return person\n",
    "\n",
    "musician = build_person('jimi','hendrix',22)\n",
    "print(musician)"
   ]
  },
  {
   "cell_type": "code",
   "execution_count": 5,
   "metadata": {},
   "outputs": [
    {
     "name": "stdout",
     "output_type": "stream",
     "text": [
      "{'first': 'jimi', 'last': 'hendrix'}\n"
     ]
    }
   ],
   "source": [
    "def build_person(first_name,last_name):\n",
    "    \"返回一个字典,其中包含有关一个人的信息\"\n",
    "    person = {'first':first_name,'last':last_name}\n",
    "    return person\n",
    "\n",
    "musician = build_person('jimi','hendrix')\n",
    "print(musician)"
   ]
  },
  {
   "cell_type": "code",
   "execution_count": 9,
   "metadata": {},
   "outputs": [
    {
     "name": "stdout",
     "output_type": "stream",
     "text": [
      "\n",
      "请输入用户名称\n",
      "或者按'q'退出\n",
      "名: sdfs\n",
      "姓: sd\n",
      "\n",
      "sdfs sd\n",
      "\n",
      "请输入用户名称\n",
      "或者按'q'退出\n",
      "名: ds\n",
      "姓: sd\n",
      "\n",
      "ds sd\n",
      "\n",
      "请输入用户名称\n",
      "或者按'q'退出\n",
      "名: q\n"
     ]
    }
   ],
   "source": [
    "def get_name(fname,lname):\n",
    "    full_name = fname + ' ' + lname\n",
    "    return full_name\n",
    "\n",
    "while True:\n",
    "    print(\"\\n请输入用户名称\")\n",
    "    print(\"或者按'q'退出\")\n",
    "    \n",
    "    first_name = input('名: ')\n",
    "    if first_name == 'q':\n",
    "        break\n",
    "    \n",
    "    last_name = input('姓: ')\n",
    "    if last_name == 'q':\n",
    "        break\n",
    "        \n",
    "    fullName = get_name(first_name,last_name)\n",
    "    print('\\n' +fullName)"
   ]
  },
  {
   "cell_type": "code",
   "execution_count": 12,
   "metadata": {},
   "outputs": [
    {
     "name": "stdout",
     "output_type": "stream",
     "text": [
      "{'name': 'tong', 'albumName': 'okasangsineinasai', 'number': '1'}\n",
      "{'name': 'tong', 'albumName': 'okasangsineinasai', 'number': '2'}\n",
      "{'name': 'tong', 'albumName': 'okasangsineinasai', 'number': '3'}\n",
      "\n",
      "请输入歌手名 and 专辑名\n",
      "or 按 \"q\" 退出\n",
      "歌手名: slala\n",
      "专辑名: jjj\n",
      "{'name': 'slala', 'albumName': 'jjj'}\n",
      "\n",
      "请输入歌手名 and 专辑名\n",
      "or 按 \"q\" 退出\n",
      "歌手名: q\n"
     ]
    }
   ],
   "source": [
    "def make_album(name,albumName,number=''):\n",
    "    album = {'name':name,'albumName':albumName}\n",
    "    if number:\n",
    "        album['number'] = number \n",
    "    return album\n",
    "\n",
    "for num in range(1,4):\n",
    "    new_album = make_album('tong','okasangsineinasai',str(num))\n",
    "    print(new_album)\n",
    "    \n",
    "while True:\n",
    "    print('\\n请输入歌手名 and 专辑名')\n",
    "    print('or 按 \"q\" 退出')\n",
    "    \n",
    "    new_name = input('歌手名: ')\n",
    "    if new_name == 'q':\n",
    "        break\n",
    "    \n",
    "    new_albumName = input('专辑名: ')\n",
    "    if new_albumName == 'q':\n",
    "        break\n",
    "        \n",
    "    print(make_album(new_name,new_albumName))\n",
    "    "
   ]
  },
  {
   "cell_type": "code",
   "execution_count": 14,
   "metadata": {
    "collapsed": true
   },
   "outputs": [
    {
     "name": "stdout",
     "output_type": "stream",
     "text": [
      "huawei\n",
      "robot\n",
      "iphone\n",
      "huawei\n",
      "robot\n",
      "iphone\n"
     ]
    }
   ],
   "source": [
    "def print_models(unprinted_designs,completed_models):\n",
    "    while unprinted_designs:\n",
    "        current_design = unprinted_designs.pop()\n",
    "        print(current_design)\n",
    "        completed_models.append(current_design)\n",
    "        \n",
    "def show_completed_models(completed_models):\n",
    "    for completed_model in completed_models:\n",
    "        print(completed_model)\n",
    "        \n",
    "\n",
    "unprinted_designs = ['iphone','robot','huawei']\n",
    "completed_models = []\n",
    "\n",
    "print_models(unprinted_designs,completed_models)\n",
    "show_completed_models(completed_models)"
   ]
  },
  {
   "cell_type": "code",
   "execution_count": 15,
   "metadata": {},
   "outputs": [
    {
     "name": "stdout",
     "output_type": "stream",
     "text": [
      "\n",
      "\n",
      "-peopews\n",
      "\n",
      "\n",
      "-mushrooms\n",
      "-green peppers\n",
      "-extra\n"
     ]
    }
   ],
   "source": [
    "def make_pizza(*toppings):\n",
    "    print('\\n')\n",
    "    for topping in toppings:\n",
    "        print(\"-\" + topping)\n",
    "        \n",
    "make_pizza('peopews')\n",
    "make_pizza('mushrooms','green peppers','extra')"
   ]
  },
  {
   "cell_type": "code",
   "execution_count": 16,
   "metadata": {},
   "outputs": [
    {
     "name": "stdout",
     "output_type": "stream",
     "text": [
      "{'first_name': 'lin', 'last_name': 'yi', 'location': 'pythes', 'field': 'jsacva'}\n"
     ]
    }
   ],
   "source": [
    "def build_profile(first,last,**user_info):\n",
    "    profile = {}\n",
    "    profile['first_name'] = first\n",
    "    profile['last_name'] = last\n",
    "    for key,value in user_info.items():\n",
    "        profile[key] = value\n",
    "    return profile\n",
    "\n",
    "user_profile = build_profile('lin','yi',location='pythes',field='jsacva')\n",
    "\n",
    "print(user_profile)"
   ]
  },
  {
   "cell_type": "code",
   "execution_count": 17,
   "metadata": {},
   "outputs": [
    {
     "ename": "ModuleNotFoundError",
     "evalue": "No module named 'module_name'",
     "output_type": "error",
     "traceback": [
      "\u001b[0;31m---------------------------------------------------------------------------\u001b[0m",
      "\u001b[0;31mModuleNotFoundError\u001b[0m                       Traceback (most recent call last)",
      "\u001b[0;32m<ipython-input-17-6ba4a6162d72>\u001b[0m in \u001b[0;36m<module>\u001b[0;34m\u001b[0m\n\u001b[0;32m----> 1\u001b[0;31m \u001b[0;32mimport\u001b[0m \u001b[0mmodule_name\u001b[0m\u001b[0;34m\u001b[0m\u001b[0;34m\u001b[0m\u001b[0m\n\u001b[0m\u001b[1;32m      2\u001b[0m \u001b[0;32mfrom\u001b[0m \u001b[0mmodule_name\u001b[0m \u001b[0;32mimport\u001b[0m \u001b[0mfunction_name\u001b[0m\u001b[0;34m\u001b[0m\u001b[0;34m\u001b[0m\u001b[0m\n\u001b[1;32m      3\u001b[0m \u001b[0;32mfrom\u001b[0m \u001b[0mmodule_name\u001b[0m \u001b[0;32mimport\u001b[0m \u001b[0mfunction_name\u001b[0m \u001b[0;32mas\u001b[0m \u001b[0mfn\u001b[0m\u001b[0;34m\u001b[0m\u001b[0;34m\u001b[0m\u001b[0m\n",
      "\u001b[0;31mModuleNotFoundError\u001b[0m: No module named 'module_name'"
     ]
    }
   ],
   "source": [
    "import module_name\n",
    "import module_name as mn\n",
    "from module_name import function_name\n",
    "from module_name import function_name as fn\n",
    "from module_name import *"
   ]
  },
  {
   "cell_type": "code",
   "execution_count": 27,
   "metadata": {},
   "outputs": [],
   "source": [
    "class Dog():\n",
    "    \"一次模拟小狗的简单尝试\"\n",
    "    \n",
    "    def __init__(self,name,age):\n",
    "        \"初始化属性name和age\"\n",
    "        self.name = name\n",
    "        self.age = age\n",
    "        \n",
    "    def sit(self):\n",
    "        \"模拟小狗被命令时蹲下\"\n",
    "        print(self.name.title()+\" is now sitting\")\n",
    "        \n",
    "    def roll_over(self):\n",
    "        \"模拟小狗被命令时打滚\"\n",
    "        print(self.name.title()+\" rolled over!\")"
   ]
  },
  {
   "cell_type": "code",
   "execution_count": 29,
   "metadata": {
    "collapsed": true
   },
   "outputs": [
    {
     "name": "stdout",
     "output_type": "stream",
     "text": [
      "lusi\n",
      "6\n",
      "Lusi is now sitting\n",
      "Lusirolled over!\n"
     ]
    }
   ],
   "source": [
    "my_dog = Dog('lusi',6)\n",
    "print(my_dog.name)\n",
    "print(my_dog.age)\n",
    "my_dog.sit()\n",
    "my_dog.roll_over()"
   ]
  },
  {
   "cell_type": "code",
   "execution_count": 35,
   "metadata": {},
   "outputs": [],
   "source": [
    "class Restaurant():\n",
    "    \n",
    "    def __init__(self,name,cuisine_type):\n",
    "        self.name = name\n",
    "        self.cuisine_type = cuisine_type\n",
    "    \n",
    "    def describe_restaurant(self):\n",
    "        print(self.name)\n",
    "        print(self.cuisine_type)\n",
    "        \n",
    "    def open_restaurant(self):\n",
    "        print('餐厅正在营业')"
   ]
  },
  {
   "cell_type": "code",
   "execution_count": 36,
   "metadata": {
    "collapsed": true
   },
   "outputs": [
    {
     "name": "stdout",
     "output_type": "stream",
     "text": [
      "nazi\n",
      "butaniku\n",
      "nazi\n",
      "butaniku\n",
      "餐厅正在营业\n"
     ]
    }
   ],
   "source": [
    "eat_person = Restaurant('nazi','butaniku')\n",
    "print(eat_person.name)\n",
    "print(eat_person.cuisine_type)\n",
    "eat_person.describe_restaurant()\n",
    "eat_person.open_restaurant()"
   ]
  },
  {
   "cell_type": "code",
   "execution_count": 37,
   "metadata": {},
   "outputs": [
    {
     "name": "stdout",
     "output_type": "stream",
     "text": [
      "2016 Audi A4\n"
     ]
    }
   ],
   "source": [
    "class Car():\n",
    "    def __init__(self,make,model,year):\n",
    "        self.make = make\n",
    "        self.model = model\n",
    "        self.year = year\n",
    "    \n",
    "    def get_descriptive_name(self):\n",
    "        long_name = str(self.year) + ' ' + self.make + ' ' + self.model\n",
    "        return long_name.title()\n",
    "    \n",
    "my_new_car = Car('audi','a4',2016)\n",
    "print(my_new_car.get_descriptive_name())"
   ]
  },
  {
   "cell_type": "code",
   "execution_count": 40,
   "metadata": {},
   "outputs": [
    {
     "name": "stdout",
     "output_type": "stream",
     "text": [
      "2016 Audi A4\n",
      "0\n"
     ]
    }
   ],
   "source": [
    "class Car():\n",
    "    def __init__(self,make,model,year):\n",
    "        self.make = make\n",
    "        self.model = model\n",
    "        self.year = year\n",
    "        self.odometer_reading = 0   ## 设置了默认值以后,就可无需形参\n",
    "    \n",
    "    def get_descriptive_name(self):\n",
    "        long_name = str(self.year) + ' ' + self.make + ' ' + self.model\n",
    "        return long_name.title()\n",
    "    \n",
    "    def read_odometer(self):\n",
    "        print(str(self.odometer_reading))\n",
    "    \n",
    "my_new_car = Car('audi','a4',2016)\n",
    "print(my_new_car.get_descriptive_name())\n",
    "my_new_car.read_odometer()"
   ]
  },
  {
   "cell_type": "code",
   "execution_count": 44,
   "metadata": {},
   "outputs": [
    {
     "name": "stdout",
     "output_type": "stream",
     "text": [
      "23\n"
     ]
    }
   ],
   "source": [
    "# 直接修改属性的值\n",
    "my_new_car.odometer_reading = 23\n",
    "my_new_car.read_odometer()"
   ]
  },
  {
   "cell_type": "code",
   "execution_count": 55,
   "metadata": {},
   "outputs": [
    {
     "name": "stdout",
     "output_type": "stream",
     "text": [
      "2016 Audi A4\n",
      "26\n"
     ]
    }
   ],
   "source": [
    "# 通过方法修改属性的值\n",
    "class Car():\n",
    "    def __init__(self,make,model,year):\n",
    "        self.make = make\n",
    "        self.model = model\n",
    "        self.year = year\n",
    "        self.odometer_reading = 0   ## 设置了默认值以后,就可无需形参\n",
    "    \n",
    "    def get_descriptive_name(self):\n",
    "        long_name = str(self.year) + ' ' + self.make + ' ' + self.model\n",
    "        return long_name.title()\n",
    "    \n",
    "    def read_odometer(self):\n",
    "        print(str(self.odometer_reading))\n",
    "        \n",
    "    def update_odometer(self,mileage):\n",
    "        if mileage >= self.odometer_reading:\n",
    "            self.odometer_reading = mileage\n",
    "        else:\n",
    "            print('里程数不能往回调')\n",
    "       \n",
    "my_new_car2 = Car('audi','a4',2016)\n",
    "print(my_new_car2.get_descriptive_name())\n",
    "my_new_car2.update_odometer(26)\n",
    "my_new_car2.read_odometer()"
   ]
  },
  {
   "cell_type": "code",
   "execution_count": 62,
   "metadata": {},
   "outputs": [
    {
     "name": "stdout",
     "output_type": "stream",
     "text": [
      "2013 Subaru Outback\n",
      "23500\n",
      "23510\n"
     ]
    }
   ],
   "source": [
    "# 通过方法对属性的值进行递增\n",
    "# 通过方法修改属性的值\n",
    "class Car():\n",
    "    def __init__(self,make,model,year):\n",
    "        self.make = make\n",
    "        self.model = model\n",
    "        self.year = year\n",
    "        self.odometer_reading = 0   ## 设置了默认值以后,就可无需形参\n",
    "    \n",
    "    def get_descriptive_name(self):\n",
    "        long_name = str(self.year) + ' ' + self.make + ' ' + self.model\n",
    "        return long_name.title()\n",
    "    \n",
    "    def read_odometer(self):\n",
    "        print(str(self.odometer_reading))\n",
    "        \n",
    "    def update_odometer(self,mileage):\n",
    "        if mileage >= self.odometer_reading:\n",
    "            self.odometer_reading = mileage\n",
    "        else:\n",
    "            print('里程数不能往回调')\n",
    "            \n",
    "    def increment_odometer(self,miles):\n",
    "        if miles > 0:\n",
    "            self.odometer_reading += miles\n",
    "        else:\n",
    "            print('增量必须大于0')\n",
    "        \n",
    "my_used_car = Car('subaru','outback',2013)\n",
    "print(my_used_car.get_descriptive_name())\n",
    "\n",
    "my_used_car.update_odometer(23500)\n",
    "my_used_car.read_odometer()\n",
    "\n",
    "my_used_car.increment_odometer(10)\n",
    "my_used_car.read_odometer()"
   ]
  },
  {
   "cell_type": "code",
   "execution_count": 63,
   "metadata": {},
   "outputs": [
    {
     "name": "stdout",
     "output_type": "stream",
     "text": [
      "增量必须大于0\n",
      "23510\n"
     ]
    }
   ],
   "source": [
    "my_used_car.increment_odometer(-12)\n",
    "my_used_car.read_odometer()"
   ]
  },
  {
   "cell_type": "code",
   "execution_count": null,
   "metadata": {},
   "outputs": [],
   "source": []
  },
  {
   "cell_type": "code",
   "execution_count": null,
   "metadata": {},
   "outputs": [],
   "source": []
  },
  {
   "cell_type": "code",
   "execution_count": null,
   "metadata": {},
   "outputs": [],
   "source": []
  },
  {
   "cell_type": "code",
   "execution_count": null,
   "metadata": {},
   "outputs": [],
   "source": []
  },
  {
   "cell_type": "code",
   "execution_count": null,
   "metadata": {},
   "outputs": [],
   "source": []
  },
  {
   "cell_type": "code",
   "execution_count": null,
   "metadata": {},
   "outputs": [],
   "source": []
  },
  {
   "cell_type": "code",
   "execution_count": null,
   "metadata": {},
   "outputs": [],
   "source": []
  },
  {
   "cell_type": "code",
   "execution_count": null,
   "metadata": {},
   "outputs": [],
   "source": []
  }
 ],
 "metadata": {
  "kernelspec": {
   "display_name": "Python 3",
   "language": "python",
   "name": "python3"
  },
  "language_info": {
   "codemirror_mode": {
    "name": "ipython",
    "version": 3
   },
   "file_extension": ".py",
   "mimetype": "text/x-python",
   "name": "python",
   "nbconvert_exporter": "python",
   "pygments_lexer": "ipython3",
   "version": "3.8.3"
  }
 },
 "nbformat": 4,
 "nbformat_minor": 4
}
