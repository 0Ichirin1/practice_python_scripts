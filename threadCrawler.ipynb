{
 "cells": [
  {
   "cell_type": "code",
   "execution_count": 1,
   "metadata": {
    "collapsed": true
   },
   "outputs": [
    {
     "name": "stdout",
     "output_type": "stream",
     "text": [
      "200 http://www.baidu.com\n",
      "串行的总时间为： 0.0952458381652832\n",
      "200 http://www.qq.com\n",
      "串行的总时间为： 0.5171420574188232\n",
      "200 http://www.naver.com\n",
      "串行的总时间为： 1.2807259559631348\n",
      "200 http://www.taobao.com\n",
      "串行的总时间为： 1.5944907665252686\n",
      "404 http://www.reddit.com\n",
      "串行的总时间为： 129.35512495040894\n",
      "200 http://www.sohu.com\n",
      "串行的总时间为： 145.486802816391\n",
      "200 http://www.tmall.com\n",
      "串行的总时间为： 147.8099238872528\n",
      "200 http://www.sina.com.cn\n",
      "串行的总时间为： 148.01294589042664\n",
      "404 http://www.daum.net\n",
      "串行的总时间为： 275.30291199684143\n",
      "404 http://www.jd.com\n",
      "串行的总时间为： 403.1331379413605\n",
      "200 http://www.360.cn\n",
      "串行的总时间为： 403.5121388435364\n",
      "200 http://www.weibo.com\n",
      "串行的总时间为： 404.0879647731781\n",
      "200 http://www.aliexpress.com\n",
      "串行的总时间为： 404.7959909439087\n",
      "200 http://www.linkedin.com\n",
      "串行的总时间为： 405.9298028945923\n",
      "200 http://www.alipay.com\n",
      "串行的总时间为： 406.25583481788635\n",
      "200 http://www.hao123.com\n",
      "串行的总时间为： 407.81501173973083\n",
      "200 http://www.csdn.net\n",
      "串行的总时间为： 408.7463548183441\n",
      "200 http://www.youth.cn\n",
      "串行的总时间为： 408.99473094940186\n",
      "200 http://www.live.com\n",
      "串行的总时间为： 410.4052908420563\n",
      "200 http://www.tianya.cn\n",
      "串行的总时间为： 410.5023238658905\n",
      "404 http://www.microsoftonline.com\n",
      "串行的总时间为： 665.1604428291321\n",
      "200 http://www.office.com\n",
      "串行的总时间为： 666.0358138084412\n",
      "200 http://www.soso.com\n",
      "串行的总时间为： 666.1200449466705\n",
      "200 http://www.so.com\n",
      "串行的总时间为： 666.4435818195343\n",
      "200 http://www.gmw.cn\n",
      "串行的总时间为： 666.6016247272491\n",
      "200 http://www.china.com\n",
      "串行的总时间为： 666.7826800346375\n",
      "200 http://www.nate.com\n",
      "串行的总时间为： 668.2173018455505\n",
      "200 http://www.huaban.com\n",
      "串行的总时间为： 668.5938220024109\n",
      "200 http://www.bing.com\n",
      "串行的总时间为： 669.0412788391113\n",
      "200 http://www.xinhuanet.com\n",
      "串行的总时间为： 669.1701157093048\n",
      "200 http://www.youku.com\n",
      "串行的总时间为： 669.8709487915039\n",
      "400 http://www.zhihu.com\n",
      "串行的总时间为： 675.0664827823639\n",
      "200 http://www.cctv.com\n",
      "串行的总时间为： 675.4438757896423\n",
      "404 http://www.airasia.com\n",
      "串行的总时间为： 802.7741179466248\n",
      "200 http://www.douyu.com\n",
      "串行的总时间为： 804.128782749176\n",
      "200 http://www.babytree.com\n",
      "串行的总时间为： 804.50981092453\n",
      "200 http://www.apple.com\n",
      "串行的总时间为： 804.6526389122009\n",
      "200 http://www.sogou.com\n",
      "串行的总时间为： 804.9437990188599\n",
      "200 http://www.china.com.cn\n",
      "串行的总时间为： 805.102481842041\n",
      "200 http://www.yelp.com\n",
      "串行的总时间为： 808.6749999523163\n",
      "200 http://www.ocbc.com\n",
      "串行的总时间为： 811.3470299243927\n",
      "200 http://www.microsoft.com\n",
      "串行的总时间为： 815.9380509853363\n",
      "200 http://www.mama.cn\n",
      "串行的总时间为： 816.300696849823\n",
      "200 http://www.bitauto.com\n",
      "串行的总时间为： 816.5911178588867\n",
      "200 http://www.bankofamerica.com\n",
      "串行的总时间为： 842.2694699764252\n",
      "200 http://www.1688.com\n",
      "串行的总时间为： 842.5101838111877\n",
      "200 http://www.stackoverflow.com\n",
      "串行的总时间为： 846.8654608726501\n",
      "200 http://www.163.com\n",
      "串行的总时间为： 847.3302779197693\n",
      "200 http://www.39.net\n",
      "串行的总时间为： 847.4660229682922\n",
      "200 http://www.cnblogs.com\n",
      "串行的总时间为： 847.6606600284576\n",
      "200 http://www.bilibili.com\n",
      "串行的总时间为： 849.104749917984\n",
      "404 http://www.interpark.com\n",
      "串行的总时间为： 976.3274927139282\n",
      "200 http://www.huanqiu.com\n",
      "串行的总时间为： 977.071121931076\n",
      "200 http://www.cnzz.com\n",
      "串行的总时间为： 977.9289526939392\n",
      "200 http://www.chinadaily.com.cn\n",
      "串行的总时间为： 978.0513918399811\n",
      "502 http://www.openrice.com\n",
      "串行的总时间为： 978.9240148067474\n",
      "200 http://www.msn.com\n",
      "串行的总时间为： 997.8763358592987\n",
      "200 http://www.k618.cn\n",
      "串行的总时间为： 998.00714802742\n",
      "200 http://www.yesky.com\n",
      "串行的总时间为： 998.3035287857056\n",
      "200 http://www.caijing.com.cn\n",
      "串行的总时间为： 998.920469045639\n",
      "200 http://www.emirates.com\n",
      "串行的总时间为： 1002.15087890625\n",
      "503 http://www.amazon.cn\n",
      "串行的总时间为： 1002.5083520412445\n",
      "200 http://www.aliyun.com\n",
      "串行的总时间为： 1003.0536561012268\n",
      "200 http://www.eastday.com\n",
      "串行的总时间为： 1003.2461538314819\n",
      "200 http://www.youdao.com\n",
      "串行的总时间为： 1003.3553049564362\n",
      "200 http://www.oeeee.com\n",
      "串行的总时间为： 1003.5978088378906\n",
      "200 http://www.ci123.com\n",
      "串行的总时间为： 1003.6926519870758\n",
      "200 http://www.baike.com\n",
      "串行的总时间为： 1004.0657248497009\n",
      "200 http://www.adobe.com\n",
      "串行的总时间为： 1004.3441526889801\n",
      "200 http://www.rednet.cn\n",
      "串行的总时间为： 1004.6072108745575\n",
      "404 http://www.iqiyi.com\n",
      "串行的总时间为： 1131.851099729538\n",
      "200 http://www.wemakeprice.com\n",
      "串行的总时间为： 1168.350094795227\n",
      "418 http://www.douban.com\n",
      "串行的总时间为： 1168.4428749084473\n",
      "200 http://www.familydoctor.com.cn\n",
      "串行的总时间为： 1168.7619998455048\n",
      "200 http://www.agoda.com\n",
      "串行的总时间为： 1169.3187897205353\n",
      "200 http://www.jrj.com.cn\n",
      "串行的总时间为： 1169.4378259181976\n",
      "403 http://www.read01.com\n",
      "串行的总时间为： 1170.9684948921204\n",
      "200 http://www.17ok.com\n",
      "串行的总时间为： 1171.2872366905212\n",
      "200 http://www.chinaz.com\n",
      "串行的总时间为： 1171.6414008140564\n",
      "200 http://www.youboy.com\n",
      "串行的总时间为： 1171.7528467178345\n",
      "404 http://www.tesco.com\n",
      "串行的总时间为： 1771.983551979065\n",
      "200 http://www.alibaba.com\n",
      "串行的总时间为： 1772.7496349811554\n",
      "200 http://www.gearbest.com\n",
      "串行的总时间为： 1774.9158477783203\n",
      "200 http://www.51sole.com\n",
      "串行的总时间为： 1775.2741219997406\n",
      "200 http://www.dbs.com\n",
      "串行的总时间为： 1778.632111787796\n",
      "200 http://www.suning.com\n",
      "串行的总时间为： 1778.8917560577393\n",
      "403 http://www.oschina.net\n",
      "串行的总时间为： 1779.5967209339142\n",
      "200 http://www.voc.com.cn\n",
      "串行的总时间为： 1779.7775418758392\n",
      "200 http://www.zol.com.cn\n",
      "串行的总时间为： 1780.066300868988\n",
      "404 http://www.asos.com\n",
      "串行的总时间为： 2980.291203022003\n",
      "200 http://www.chinaso.com\n",
      "串行的总时间为： 2980.723108768463\n",
      "403 http://www.jianshu.com\n",
      "串行的总时间为： 2981.920966863632\n",
      "200 http://www.ifeng.com\n",
      "串行的总时间为： 2982.521322965622\n",
      "200 http://www.stockstar.com\n",
      "串行的总时间为： 2984.1044049263\n",
      "200 http://www.zhanqi.tv\n",
      "串行的总时间为： 2984.8050837516785\n",
      "200 http://www.52pk.com\n",
      "串行的总时间为： 2985.7147777080536\n",
      "200 http://www.whatsbuying.com\n",
      "串行的总时间为： 3007.778583049774\n",
      "200 http://www.cqnews.net\n",
      "串行的总时间为： 3009.0370829105377\n",
      "200 http://www.gongchang.com\n",
      "串行的总时间为： 3010.1378848552704\n",
      "200 http://www.godaddy.com\n",
      "串行的总时间为： 3040.8909108638763\n",
      "200 http://www.godaddy.com\n",
      "串行的总时间为： 3048.8925688266754\n",
      "200 http://www.wtoip.com\n",
      "串行的总时间为： 3050.047709941864\n",
      "200 http://www.segmentfault.com\n",
      "串行的总时间为： 3051.021162033081\n",
      "200 http://www.evernote.com\n",
      "串行的总时间为： 3056.355771780014\n",
      "200 http://www.dianping.com\n",
      "串行的总时间为： 3056.743982076645\n",
      "200 http://www.qingdaonews.com\n",
      "串行的总时间为： 3057.1636669635773\n",
      "200 http://www.guancha.cn\n",
      "串行的总时间为： 3057.521407842636\n",
      "200 http://www.standardchartered.com\n",
      "串行的总时间为： 3065.527869939804\n",
      "200 http://www.singaporeair.com\n",
      "串行的总时间为： 3066.1033940315247\n",
      "200 http://www.toutiao.com\n",
      "串行的总时间为： 3066.381796836853\n",
      "200 http://www.jiameng.com\n",
      "串行的总时间为： 3068.7162187099457\n",
      "200 http://www.dm5.com\n",
      "串行的总时间为： 3069.0344178676605\n",
      "200 http://www.w3school.com.cn\n",
      "串行的总时间为： 3069.224967956543\n",
      "200 http://www.zhaopin.com\n",
      "串行的总时间为： 3069.651128768921\n",
      "200 http://www.99.com\n",
      "串行的总时间为： 3069.8918657302856\n",
      "200 http://www.mi.com\n",
      "串行的总时间为： 3070.0008199214935\n",
      "200 http://www.b2b.cn\n",
      "串行的总时间为： 3070.373916864395\n",
      "200 http://www.cathaypacific.com\n",
      "串行的总时间为： 3070.534998893738\n",
      "200 http://www.southcn.com\n",
      "串行的总时间为： 3070.709713935852\n",
      "200 http://www.battle.net\n",
      "串行的总时间为： 3076.1787707805634\n",
      "200 http://www.ups.com\n",
      "串行的总时间为： 3077.5937259197235\n",
      "200 http://www.jb51.net\n",
      "串行的总时间为： 3077.80357670784\n",
      "200 http://www.comcast.net\n",
      "串行的总时间为： 3086.8445308208466\n",
      "404 http://www.alicdn.com\n",
      "串行的总时间为： 3341.384148836136\n",
      "404 http://www.v2ex.com\n",
      "串行的总时间为： 3344.031103849411\n",
      "200 http://www.firefoxchina.cn\n",
      "串行的总时间为： 3345.2962579727173\n",
      "403 http://www.360doc.com\n",
      "串行的总时间为： 3345.5317990779877\n",
      "200 http://www.xunlei.com\n",
      "串行的总时间为： 3345.6880156993866\n",
      "200 http://www.sharepoint.com\n",
      "串行的总时间为： 3360.123286962509\n",
      "200 http://www.scol.com.cn\n",
      "串行的总时间为： 3360.5260648727417\n",
      "404 http://www.admaimai.com\n",
      "串行的总时间为： 3488.834701061249\n",
      "200 http://www.v1.cn\n",
      "串行的总时间为： 3489.0990767478943\n",
      "200 http://www.51cto.com\n",
      "串行的总时间为： 3489.8114869594574\n",
      "200 http://www.jqw.com\n",
      "串行的总时间为： 3490.0740280151367\n",
      "200 http://www.bzw315.com\n",
      "串行的总时间为： 3490.4821157455444\n",
      "200 http://www.126.com\n",
      "串行的总时间为： 3490.8448870182037\n",
      "200 http://www.beanfun.com\n",
      "串行的总时间为： 3492.6782858371735\n",
      "200 http://www.chooseauto.com.cn\n",
      "串行的总时间为： 3494.221632003784\n",
      "200 http://www.renren.com\n",
      "串行的总时间为： 3494.577970981598\n",
      "403 http://www.taleo.net\n",
      "串行的总时间为： 3496.346174955368\n",
      "404 http://www.51.la\n",
      "串行的总时间为： 3497.4239859580994\n",
      "200 http://www.zcool.com.cn\n",
      "串行的总时间为： 3498.0191688537598\n",
      "200 http://www.4399.com\n",
      "串行的总时间为： 3498.2167448997498\n",
      "200 http://www.duba.com\n",
      "串行的总时间为： 3498.944049835205\n",
      "200 http://www.globaltimes.cn\n",
      "串行的总时间为： 3499.3219878673553\n",
      "200 http://www.ycwb.com\n",
      "串行的总时间为： 3499.5193190574646\n",
      "200 http://www.sfacg.com\n",
      "串行的总时间为： 3499.9478631019592\n",
      "200 http://www.hotelscombined.com\n",
      "串行的总时间为： 3525.26616191864\n",
      "200 http://www.mydrivers.com\n",
      "串行的总时间为： 3526.900433778763\n",
      "200 http://www.taoche.com\n",
      "串行的总时间为： 3527.4667439460754\n",
      "200 http://www.runoob.com\n",
      "串行的总时间为： 3527.8271329402924\n",
      "403 http://www.tlscontact.com\n",
      "串行的总时间为： 3530.5490629673004\n",
      "200 http://www.nba.com\n",
      "串行的总时间为： 3540.6418199539185\n"
     ]
    },
    {
     "name": "stdout",
     "output_type": "stream",
     "text": [
      "404 http://www.gamebase.com.tw\n",
      "串行的总时间为： 3541.875869989395\n",
      "200 http://www.zhibo8.cc\n",
      "串行的总时间为： 3542.714119911194\n",
      "200 http://www.hexun.com\n",
      "串行的总时间为： 3543.3056650161743\n",
      "200 http://www.xiami.com\n",
      "串行的总时间为： 3544.551228761673\n",
      "200 http://www.finnair.com\n",
      "串行的总时间为： 3547.2962799072266\n",
      "200 http://www.feng.com\n",
      "串行的总时间为： 3547.7870709896088\n",
      "200 http://www.cdstm.cn\n",
      "串行的总时间为： 3548.1331038475037\n",
      "404 http://www.uniqlo.com\n",
      "串行的总时间为： 4148.164208889008\n",
      "200 http://www.iciba.com\n",
      "串行的总时间为： 4148.3224449157715\n",
      "200 http://www.qudong.com\n",
      "串行的总时间为： 4148.738349914551\n",
      "200 http://www.panda.tv\n",
      "串行的总时间为： 4154.96071600914\n",
      "200 http://www.cnbeta.com\n",
      "串行的总时间为： 4155.247405052185\n",
      "200 http://www.nipic.com\n",
      "串行的总时间为： 4155.385264873505\n",
      "200 http://www.sznews.com\n",
      "串行的总时间为： 4155.985006809235\n",
      "200 http://www.huawei.com\n",
      "串行的总时间为： 4156.168966770172\n",
      "200 http://www.tuicool.com\n",
      "串行的总时间为： 4156.518590927124\n",
      "200 http://www.baimao.com\n",
      "串行的总时间为： 4156.6272349357605\n",
      "200 http://www.umeng.com\n",
      "串行的总时间为： 4157.060112953186\n",
      "200 http://www.ccidnet.com\n",
      "串行的总时间为： 4157.274755001068\n",
      "404 http://www.klm.com\n",
      "串行的总时间为： 4757.966541051865\n",
      "200 http://www.qcloud.com\n",
      "串行的总时间为： 4758.71933889389\n",
      "200 http://www.hupu.com\n",
      "串行的总时间为： 4759.49174785614\n",
      "403 http://www.ikanman.com\n",
      "串行的总时间为： 4760.173367023468\n",
      "200 http://www.3dmgame.com\n",
      "串行的总时间为： 4760.476336956024\n",
      "200 http://www.icolor.com.cn\n",
      "串行的总时间为： 4760.782093048096\n",
      "200 http://www.360.com\n",
      "串行的总时间为： 4761.163107872009\n",
      "200 http://www.36kr.com\n",
      "串行的总时间为： 4761.677627801895\n",
      "200 http://www.miui.com\n",
      "串行的总时间为： 4762.01310801506\n",
      "200 http://www.boc.cn\n",
      "串行的总时间为： 4762.448989868164\n",
      "200 http://www.gamersky.com\n",
      "串行的总时间为： 4762.621453762054\n",
      "404 http://www.joyme.com\n",
      "串行的总时间为： 4762.685391902924\n",
      "200 http://www.17173.com\n",
      "串行的总时间为： 4763.635661840439\n",
      "200 http://www.uc.cn\n",
      "串行的总时间为： 4764.33157491684\n",
      "200 http://www.alimama.com\n",
      "串行的总时间为： 4764.853456735611\n",
      "200 http://www.oasgames.com\n",
      "串行的总时间为： 4767.327476978302\n",
      "200 http://www.focus.cn\n",
      "串行的总时间为： 4767.985892772675\n",
      "200 http://www.cnr.cn\n",
      "串行的总时间为： 4768.078269958496\n",
      "Error:  HTTPConnectionPool(host='www.miomio.tv', port=80): Max retries exceeded with url: / (Caused by NewConnectionError('<urllib3.connection.HTTPConnection object at 0x7fc09d2d8ee0>: Failed to establish a new connection: [Errno 8] nodename nor servname provided, or not known'))\n",
      "串行的总时间为： 4768.085208892822\n",
      "200 http://www.jjwxc.net\n",
      "串行的总时间为： 4768.125518798828\n",
      "404 http://www.5dcar.com\n",
      "串行的总时间为： 4895.387580871582\n",
      "200 http://www.hjenglish.com\n",
      "串行的总时间为： 4895.686184883118\n",
      "200 http://www.dangdang.com\n",
      "串行的总时间为： 4896.099224090576\n",
      "200 http://www.springer.com\n",
      "串行的总时间为： 4900.857698917389\n",
      "503 http://www.to8to.com\n",
      "串行的总时间为： 4900.995611906052\n",
      "200 http://www.xiaomi.com\n",
      "串行的总时间为： 4901.331871986389\n",
      "200 http://www.ctrip.com\n",
      "串行的总时间为： 4901.899794816971\n",
      "403 http://www.delta.com\n",
      "串行的总时间为： 4903.719460725784\n",
      "200 http://www.anjuke.com\n",
      "串行的总时间为： 4904.233838796616\n",
      "200 http://www.cnki.net\n",
      "串行的总时间为： 4904.556660890579\n",
      "200 http://www.surveymonkey.com\n",
      "串行的总时间为： 4907.025592088699\n",
      "200 http://www.tower.im\n",
      "串行的总时间为： 4908.418457746506\n",
      "Error:  HTTPConnectionPool(host='www.baiducontent.com', port=80): Max retries exceeded with url: / (Caused by NewConnectionError('<urllib3.connection.HTTPConnection object at 0x7fc09d9a2d90>: Failed to establish a new connection: [Errno 8] nodename nor servname provided, or not known'))\n",
      "串行的总时间为： 4908.528194904327\n",
      "403 http://www.acfun.cn\n",
      "串行的总时间为： 4908.858447790146\n",
      "200 http://www.people.com.cn\n",
      "串行的总时间为： 4908.990613937378\n",
      "200 http://www.jmw.com.cn\n",
      "串行的总时间为： 4910.904145956039\n",
      "200 http://www.worktile.com\n",
      "串行的总时间为： 4911.260180950165\n",
      "200 http://www.newsmth.net\n",
      "串行的总时间为： 4911.603286981583\n",
      "504 http://www.vmall.com\n",
      "串行的总时间为： 4941.712481021881\n",
      "200 http://www.07073.com\n",
      "串行的总时间为： 4941.78860783577\n",
      "200 http://www.qyer.com\n",
      "串行的总时间为： 4942.2319419384\n",
      "200 http://www.hujiang.com\n",
      "串行的总时间为： 4942.533988714218\n"
     ]
    },
    {
     "ename": "KeyboardInterrupt",
     "evalue": "",
     "output_type": "error",
     "traceback": [
      "\u001b[0;31m---------------------------------------------------------------------------\u001b[0m",
      "\u001b[0;31mKeyboardInterrupt\u001b[0m                         Traceback (most recent call last)",
      "\u001b[0;32m<ipython-input-1-c71e4acb14ca>\u001b[0m in \u001b[0;36m<module>\u001b[0;34m\u001b[0m\n\u001b[1;32m     12\u001b[0m \u001b[0;32mfor\u001b[0m \u001b[0meachone\u001b[0m \u001b[0;32min\u001b[0m \u001b[0mlink_list\u001b[0m\u001b[0;34m:\u001b[0m\u001b[0;34m\u001b[0m\u001b[0;34m\u001b[0m\u001b[0m\n\u001b[1;32m     13\u001b[0m     \u001b[0;32mtry\u001b[0m\u001b[0;34m:\u001b[0m\u001b[0;34m\u001b[0m\u001b[0;34m\u001b[0m\u001b[0m\n\u001b[0;32m---> 14\u001b[0;31m         \u001b[0mr\u001b[0m \u001b[0;34m=\u001b[0m \u001b[0mrequests\u001b[0m\u001b[0;34m.\u001b[0m\u001b[0mget\u001b[0m\u001b[0;34m(\u001b[0m\u001b[0meachone\u001b[0m\u001b[0;34m)\u001b[0m\u001b[0;34m\u001b[0m\u001b[0;34m\u001b[0m\u001b[0m\n\u001b[0m\u001b[1;32m     15\u001b[0m         \u001b[0mprint\u001b[0m\u001b[0;34m(\u001b[0m\u001b[0mr\u001b[0m\u001b[0;34m.\u001b[0m\u001b[0mstatus_code\u001b[0m\u001b[0;34m,\u001b[0m \u001b[0meachone\u001b[0m\u001b[0;34m)\u001b[0m\u001b[0;34m\u001b[0m\u001b[0;34m\u001b[0m\u001b[0m\n\u001b[1;32m     16\u001b[0m     \u001b[0;32mexcept\u001b[0m \u001b[0mException\u001b[0m \u001b[0;32mas\u001b[0m \u001b[0me\u001b[0m\u001b[0;34m:\u001b[0m\u001b[0;34m\u001b[0m\u001b[0;34m\u001b[0m\u001b[0m\n",
      "\u001b[0;32m~/opt/miniconda3/lib/python3.8/site-packages/requests/api.py\u001b[0m in \u001b[0;36mget\u001b[0;34m(url, params, **kwargs)\u001b[0m\n\u001b[1;32m     74\u001b[0m \u001b[0;34m\u001b[0m\u001b[0m\n\u001b[1;32m     75\u001b[0m     \u001b[0mkwargs\u001b[0m\u001b[0;34m.\u001b[0m\u001b[0msetdefault\u001b[0m\u001b[0;34m(\u001b[0m\u001b[0;34m'allow_redirects'\u001b[0m\u001b[0;34m,\u001b[0m \u001b[0;32mTrue\u001b[0m\u001b[0;34m)\u001b[0m\u001b[0;34m\u001b[0m\u001b[0;34m\u001b[0m\u001b[0m\n\u001b[0;32m---> 76\u001b[0;31m     \u001b[0;32mreturn\u001b[0m \u001b[0mrequest\u001b[0m\u001b[0;34m(\u001b[0m\u001b[0;34m'get'\u001b[0m\u001b[0;34m,\u001b[0m \u001b[0murl\u001b[0m\u001b[0;34m,\u001b[0m \u001b[0mparams\u001b[0m\u001b[0;34m=\u001b[0m\u001b[0mparams\u001b[0m\u001b[0;34m,\u001b[0m \u001b[0;34m**\u001b[0m\u001b[0mkwargs\u001b[0m\u001b[0;34m)\u001b[0m\u001b[0;34m\u001b[0m\u001b[0;34m\u001b[0m\u001b[0m\n\u001b[0m\u001b[1;32m     77\u001b[0m \u001b[0;34m\u001b[0m\u001b[0m\n\u001b[1;32m     78\u001b[0m \u001b[0;34m\u001b[0m\u001b[0m\n",
      "\u001b[0;32m~/opt/miniconda3/lib/python3.8/site-packages/requests/api.py\u001b[0m in \u001b[0;36mrequest\u001b[0;34m(method, url, **kwargs)\u001b[0m\n\u001b[1;32m     59\u001b[0m     \u001b[0;31m# cases, and look like a memory leak in others.\u001b[0m\u001b[0;34m\u001b[0m\u001b[0;34m\u001b[0m\u001b[0;34m\u001b[0m\u001b[0m\n\u001b[1;32m     60\u001b[0m     \u001b[0;32mwith\u001b[0m \u001b[0msessions\u001b[0m\u001b[0;34m.\u001b[0m\u001b[0mSession\u001b[0m\u001b[0;34m(\u001b[0m\u001b[0;34m)\u001b[0m \u001b[0;32mas\u001b[0m \u001b[0msession\u001b[0m\u001b[0;34m:\u001b[0m\u001b[0;34m\u001b[0m\u001b[0;34m\u001b[0m\u001b[0m\n\u001b[0;32m---> 61\u001b[0;31m         \u001b[0;32mreturn\u001b[0m \u001b[0msession\u001b[0m\u001b[0;34m.\u001b[0m\u001b[0mrequest\u001b[0m\u001b[0;34m(\u001b[0m\u001b[0mmethod\u001b[0m\u001b[0;34m=\u001b[0m\u001b[0mmethod\u001b[0m\u001b[0;34m,\u001b[0m \u001b[0murl\u001b[0m\u001b[0;34m=\u001b[0m\u001b[0murl\u001b[0m\u001b[0;34m,\u001b[0m \u001b[0;34m**\u001b[0m\u001b[0mkwargs\u001b[0m\u001b[0;34m)\u001b[0m\u001b[0;34m\u001b[0m\u001b[0;34m\u001b[0m\u001b[0m\n\u001b[0m\u001b[1;32m     62\u001b[0m \u001b[0;34m\u001b[0m\u001b[0m\n\u001b[1;32m     63\u001b[0m \u001b[0;34m\u001b[0m\u001b[0m\n",
      "\u001b[0;32m~/opt/miniconda3/lib/python3.8/site-packages/requests/sessions.py\u001b[0m in \u001b[0;36mrequest\u001b[0;34m(self, method, url, params, data, headers, cookies, files, auth, timeout, allow_redirects, proxies, hooks, stream, verify, cert, json)\u001b[0m\n\u001b[1;32m    528\u001b[0m         }\n\u001b[1;32m    529\u001b[0m         \u001b[0msend_kwargs\u001b[0m\u001b[0;34m.\u001b[0m\u001b[0mupdate\u001b[0m\u001b[0;34m(\u001b[0m\u001b[0msettings\u001b[0m\u001b[0;34m)\u001b[0m\u001b[0;34m\u001b[0m\u001b[0;34m\u001b[0m\u001b[0m\n\u001b[0;32m--> 530\u001b[0;31m         \u001b[0mresp\u001b[0m \u001b[0;34m=\u001b[0m \u001b[0mself\u001b[0m\u001b[0;34m.\u001b[0m\u001b[0msend\u001b[0m\u001b[0;34m(\u001b[0m\u001b[0mprep\u001b[0m\u001b[0;34m,\u001b[0m \u001b[0;34m**\u001b[0m\u001b[0msend_kwargs\u001b[0m\u001b[0;34m)\u001b[0m\u001b[0;34m\u001b[0m\u001b[0;34m\u001b[0m\u001b[0m\n\u001b[0m\u001b[1;32m    531\u001b[0m \u001b[0;34m\u001b[0m\u001b[0m\n\u001b[1;32m    532\u001b[0m         \u001b[0;32mreturn\u001b[0m \u001b[0mresp\u001b[0m\u001b[0;34m\u001b[0m\u001b[0;34m\u001b[0m\u001b[0m\n",
      "\u001b[0;32m~/opt/miniconda3/lib/python3.8/site-packages/requests/sessions.py\u001b[0m in \u001b[0;36msend\u001b[0;34m(self, request, **kwargs)\u001b[0m\n\u001b[1;32m    641\u001b[0m \u001b[0;34m\u001b[0m\u001b[0m\n\u001b[1;32m    642\u001b[0m         \u001b[0;31m# Send the request\u001b[0m\u001b[0;34m\u001b[0m\u001b[0;34m\u001b[0m\u001b[0;34m\u001b[0m\u001b[0m\n\u001b[0;32m--> 643\u001b[0;31m         \u001b[0mr\u001b[0m \u001b[0;34m=\u001b[0m \u001b[0madapter\u001b[0m\u001b[0;34m.\u001b[0m\u001b[0msend\u001b[0m\u001b[0;34m(\u001b[0m\u001b[0mrequest\u001b[0m\u001b[0;34m,\u001b[0m \u001b[0;34m**\u001b[0m\u001b[0mkwargs\u001b[0m\u001b[0;34m)\u001b[0m\u001b[0;34m\u001b[0m\u001b[0;34m\u001b[0m\u001b[0m\n\u001b[0m\u001b[1;32m    644\u001b[0m \u001b[0;34m\u001b[0m\u001b[0m\n\u001b[1;32m    645\u001b[0m         \u001b[0;31m# Total elapsed time of the request (approximately)\u001b[0m\u001b[0;34m\u001b[0m\u001b[0;34m\u001b[0m\u001b[0;34m\u001b[0m\u001b[0m\n",
      "\u001b[0;32m~/opt/miniconda3/lib/python3.8/site-packages/requests/adapters.py\u001b[0m in \u001b[0;36msend\u001b[0;34m(self, request, stream, timeout, verify, cert, proxies)\u001b[0m\n\u001b[1;32m    437\u001b[0m         \u001b[0;32mtry\u001b[0m\u001b[0;34m:\u001b[0m\u001b[0;34m\u001b[0m\u001b[0;34m\u001b[0m\u001b[0m\n\u001b[1;32m    438\u001b[0m             \u001b[0;32mif\u001b[0m \u001b[0;32mnot\u001b[0m \u001b[0mchunked\u001b[0m\u001b[0;34m:\u001b[0m\u001b[0;34m\u001b[0m\u001b[0;34m\u001b[0m\u001b[0m\n\u001b[0;32m--> 439\u001b[0;31m                 resp = conn.urlopen(\n\u001b[0m\u001b[1;32m    440\u001b[0m                     \u001b[0mmethod\u001b[0m\u001b[0;34m=\u001b[0m\u001b[0mrequest\u001b[0m\u001b[0;34m.\u001b[0m\u001b[0mmethod\u001b[0m\u001b[0;34m,\u001b[0m\u001b[0;34m\u001b[0m\u001b[0;34m\u001b[0m\u001b[0m\n\u001b[1;32m    441\u001b[0m                     \u001b[0murl\u001b[0m\u001b[0;34m=\u001b[0m\u001b[0murl\u001b[0m\u001b[0;34m,\u001b[0m\u001b[0;34m\u001b[0m\u001b[0;34m\u001b[0m\u001b[0m\n",
      "\u001b[0;32m~/opt/miniconda3/lib/python3.8/site-packages/urllib3/connectionpool.py\u001b[0m in \u001b[0;36murlopen\u001b[0;34m(self, method, url, body, headers, retries, redirect, assert_same_host, timeout, pool_timeout, release_conn, chunked, body_pos, **response_kw)\u001b[0m\n\u001b[1;32m    668\u001b[0m \u001b[0;34m\u001b[0m\u001b[0m\n\u001b[1;32m    669\u001b[0m             \u001b[0;31m# Make the request on the httplib connection object.\u001b[0m\u001b[0;34m\u001b[0m\u001b[0;34m\u001b[0m\u001b[0;34m\u001b[0m\u001b[0m\n\u001b[0;32m--> 670\u001b[0;31m             httplib_response = self._make_request(\n\u001b[0m\u001b[1;32m    671\u001b[0m                 \u001b[0mconn\u001b[0m\u001b[0;34m,\u001b[0m\u001b[0;34m\u001b[0m\u001b[0;34m\u001b[0m\u001b[0m\n\u001b[1;32m    672\u001b[0m                 \u001b[0mmethod\u001b[0m\u001b[0;34m,\u001b[0m\u001b[0;34m\u001b[0m\u001b[0;34m\u001b[0m\u001b[0m\n",
      "\u001b[0;32m~/opt/miniconda3/lib/python3.8/site-packages/urllib3/connectionpool.py\u001b[0m in \u001b[0;36m_make_request\u001b[0;34m(self, conn, method, url, timeout, chunked, **httplib_request_kw)\u001b[0m\n\u001b[1;32m    424\u001b[0m                     \u001b[0;31m# Python 3 (including for exceptions like SystemExit).\u001b[0m\u001b[0;34m\u001b[0m\u001b[0;34m\u001b[0m\u001b[0;34m\u001b[0m\u001b[0m\n\u001b[1;32m    425\u001b[0m                     \u001b[0;31m# Otherwise it looks like a bug in the code.\u001b[0m\u001b[0;34m\u001b[0m\u001b[0;34m\u001b[0m\u001b[0;34m\u001b[0m\u001b[0m\n\u001b[0;32m--> 426\u001b[0;31m                     \u001b[0msix\u001b[0m\u001b[0;34m.\u001b[0m\u001b[0mraise_from\u001b[0m\u001b[0;34m(\u001b[0m\u001b[0me\u001b[0m\u001b[0;34m,\u001b[0m \u001b[0;32mNone\u001b[0m\u001b[0;34m)\u001b[0m\u001b[0;34m\u001b[0m\u001b[0;34m\u001b[0m\u001b[0m\n\u001b[0m\u001b[1;32m    427\u001b[0m         \u001b[0;32mexcept\u001b[0m \u001b[0;34m(\u001b[0m\u001b[0mSocketTimeout\u001b[0m\u001b[0;34m,\u001b[0m \u001b[0mBaseSSLError\u001b[0m\u001b[0;34m,\u001b[0m \u001b[0mSocketError\u001b[0m\u001b[0;34m)\u001b[0m \u001b[0;32mas\u001b[0m \u001b[0me\u001b[0m\u001b[0;34m:\u001b[0m\u001b[0;34m\u001b[0m\u001b[0;34m\u001b[0m\u001b[0m\n\u001b[1;32m    428\u001b[0m             \u001b[0mself\u001b[0m\u001b[0;34m.\u001b[0m\u001b[0m_raise_timeout\u001b[0m\u001b[0;34m(\u001b[0m\u001b[0merr\u001b[0m\u001b[0;34m=\u001b[0m\u001b[0me\u001b[0m\u001b[0;34m,\u001b[0m \u001b[0murl\u001b[0m\u001b[0;34m=\u001b[0m\u001b[0murl\u001b[0m\u001b[0;34m,\u001b[0m \u001b[0mtimeout_value\u001b[0m\u001b[0;34m=\u001b[0m\u001b[0mread_timeout\u001b[0m\u001b[0;34m)\u001b[0m\u001b[0;34m\u001b[0m\u001b[0;34m\u001b[0m\u001b[0m\n",
      "\u001b[0;32m~/opt/miniconda3/lib/python3.8/site-packages/urllib3/packages/six.py\u001b[0m in \u001b[0;36mraise_from\u001b[0;34m(value, from_value)\u001b[0m\n",
      "\u001b[0;32m~/opt/miniconda3/lib/python3.8/site-packages/urllib3/connectionpool.py\u001b[0m in \u001b[0;36m_make_request\u001b[0;34m(self, conn, method, url, timeout, chunked, **httplib_request_kw)\u001b[0m\n\u001b[1;32m    419\u001b[0m                 \u001b[0;31m# Python 3\u001b[0m\u001b[0;34m\u001b[0m\u001b[0;34m\u001b[0m\u001b[0;34m\u001b[0m\u001b[0m\n\u001b[1;32m    420\u001b[0m                 \u001b[0;32mtry\u001b[0m\u001b[0;34m:\u001b[0m\u001b[0;34m\u001b[0m\u001b[0;34m\u001b[0m\u001b[0m\n\u001b[0;32m--> 421\u001b[0;31m                     \u001b[0mhttplib_response\u001b[0m \u001b[0;34m=\u001b[0m \u001b[0mconn\u001b[0m\u001b[0;34m.\u001b[0m\u001b[0mgetresponse\u001b[0m\u001b[0;34m(\u001b[0m\u001b[0;34m)\u001b[0m\u001b[0;34m\u001b[0m\u001b[0;34m\u001b[0m\u001b[0m\n\u001b[0m\u001b[1;32m    422\u001b[0m                 \u001b[0;32mexcept\u001b[0m \u001b[0mBaseException\u001b[0m \u001b[0;32mas\u001b[0m \u001b[0me\u001b[0m\u001b[0;34m:\u001b[0m\u001b[0;34m\u001b[0m\u001b[0;34m\u001b[0m\u001b[0m\n\u001b[1;32m    423\u001b[0m                     \u001b[0;31m# Remove the TypeError from the exception chain in\u001b[0m\u001b[0;34m\u001b[0m\u001b[0;34m\u001b[0m\u001b[0;34m\u001b[0m\u001b[0m\n",
      "\u001b[0;32m~/opt/miniconda3/lib/python3.8/http/client.py\u001b[0m in \u001b[0;36mgetresponse\u001b[0;34m(self)\u001b[0m\n\u001b[1;32m   1345\u001b[0m         \u001b[0;32mtry\u001b[0m\u001b[0;34m:\u001b[0m\u001b[0;34m\u001b[0m\u001b[0;34m\u001b[0m\u001b[0m\n\u001b[1;32m   1346\u001b[0m             \u001b[0;32mtry\u001b[0m\u001b[0;34m:\u001b[0m\u001b[0;34m\u001b[0m\u001b[0;34m\u001b[0m\u001b[0m\n\u001b[0;32m-> 1347\u001b[0;31m                 \u001b[0mresponse\u001b[0m\u001b[0;34m.\u001b[0m\u001b[0mbegin\u001b[0m\u001b[0;34m(\u001b[0m\u001b[0;34m)\u001b[0m\u001b[0;34m\u001b[0m\u001b[0;34m\u001b[0m\u001b[0m\n\u001b[0m\u001b[1;32m   1348\u001b[0m             \u001b[0;32mexcept\u001b[0m \u001b[0mConnectionError\u001b[0m\u001b[0;34m:\u001b[0m\u001b[0;34m\u001b[0m\u001b[0;34m\u001b[0m\u001b[0m\n\u001b[1;32m   1349\u001b[0m                 \u001b[0mself\u001b[0m\u001b[0;34m.\u001b[0m\u001b[0mclose\u001b[0m\u001b[0;34m(\u001b[0m\u001b[0;34m)\u001b[0m\u001b[0;34m\u001b[0m\u001b[0;34m\u001b[0m\u001b[0m\n",
      "\u001b[0;32m~/opt/miniconda3/lib/python3.8/http/client.py\u001b[0m in \u001b[0;36mbegin\u001b[0;34m(self)\u001b[0m\n\u001b[1;32m    305\u001b[0m         \u001b[0;31m# read until we get a non-100 response\u001b[0m\u001b[0;34m\u001b[0m\u001b[0;34m\u001b[0m\u001b[0;34m\u001b[0m\u001b[0m\n\u001b[1;32m    306\u001b[0m         \u001b[0;32mwhile\u001b[0m \u001b[0;32mTrue\u001b[0m\u001b[0;34m:\u001b[0m\u001b[0;34m\u001b[0m\u001b[0;34m\u001b[0m\u001b[0m\n\u001b[0;32m--> 307\u001b[0;31m             \u001b[0mversion\u001b[0m\u001b[0;34m,\u001b[0m \u001b[0mstatus\u001b[0m\u001b[0;34m,\u001b[0m \u001b[0mreason\u001b[0m \u001b[0;34m=\u001b[0m \u001b[0mself\u001b[0m\u001b[0;34m.\u001b[0m\u001b[0m_read_status\u001b[0m\u001b[0;34m(\u001b[0m\u001b[0;34m)\u001b[0m\u001b[0;34m\u001b[0m\u001b[0;34m\u001b[0m\u001b[0m\n\u001b[0m\u001b[1;32m    308\u001b[0m             \u001b[0;32mif\u001b[0m \u001b[0mstatus\u001b[0m \u001b[0;34m!=\u001b[0m \u001b[0mCONTINUE\u001b[0m\u001b[0;34m:\u001b[0m\u001b[0;34m\u001b[0m\u001b[0;34m\u001b[0m\u001b[0m\n\u001b[1;32m    309\u001b[0m                 \u001b[0;32mbreak\u001b[0m\u001b[0;34m\u001b[0m\u001b[0;34m\u001b[0m\u001b[0m\n",
      "\u001b[0;32m~/opt/miniconda3/lib/python3.8/http/client.py\u001b[0m in \u001b[0;36m_read_status\u001b[0;34m(self)\u001b[0m\n\u001b[1;32m    266\u001b[0m \u001b[0;34m\u001b[0m\u001b[0m\n\u001b[1;32m    267\u001b[0m     \u001b[0;32mdef\u001b[0m \u001b[0m_read_status\u001b[0m\u001b[0;34m(\u001b[0m\u001b[0mself\u001b[0m\u001b[0;34m)\u001b[0m\u001b[0;34m:\u001b[0m\u001b[0;34m\u001b[0m\u001b[0;34m\u001b[0m\u001b[0m\n\u001b[0;32m--> 268\u001b[0;31m         \u001b[0mline\u001b[0m \u001b[0;34m=\u001b[0m \u001b[0mstr\u001b[0m\u001b[0;34m(\u001b[0m\u001b[0mself\u001b[0m\u001b[0;34m.\u001b[0m\u001b[0mfp\u001b[0m\u001b[0;34m.\u001b[0m\u001b[0mreadline\u001b[0m\u001b[0;34m(\u001b[0m\u001b[0m_MAXLINE\u001b[0m \u001b[0;34m+\u001b[0m \u001b[0;36m1\u001b[0m\u001b[0;34m)\u001b[0m\u001b[0;34m,\u001b[0m \u001b[0;34m\"iso-8859-1\"\u001b[0m\u001b[0;34m)\u001b[0m\u001b[0;34m\u001b[0m\u001b[0;34m\u001b[0m\u001b[0m\n\u001b[0m\u001b[1;32m    269\u001b[0m         \u001b[0;32mif\u001b[0m \u001b[0mlen\u001b[0m\u001b[0;34m(\u001b[0m\u001b[0mline\u001b[0m\u001b[0;34m)\u001b[0m \u001b[0;34m>\u001b[0m \u001b[0m_MAXLINE\u001b[0m\u001b[0;34m:\u001b[0m\u001b[0;34m\u001b[0m\u001b[0;34m\u001b[0m\u001b[0m\n\u001b[1;32m    270\u001b[0m             \u001b[0;32mraise\u001b[0m \u001b[0mLineTooLong\u001b[0m\u001b[0;34m(\u001b[0m\u001b[0;34m\"status line\"\u001b[0m\u001b[0;34m)\u001b[0m\u001b[0;34m\u001b[0m\u001b[0;34m\u001b[0m\u001b[0m\n",
      "\u001b[0;32m~/opt/miniconda3/lib/python3.8/socket.py\u001b[0m in \u001b[0;36mreadinto\u001b[0;34m(self, b)\u001b[0m\n\u001b[1;32m    667\u001b[0m         \u001b[0;32mwhile\u001b[0m \u001b[0;32mTrue\u001b[0m\u001b[0;34m:\u001b[0m\u001b[0;34m\u001b[0m\u001b[0;34m\u001b[0m\u001b[0m\n\u001b[1;32m    668\u001b[0m             \u001b[0;32mtry\u001b[0m\u001b[0;34m:\u001b[0m\u001b[0;34m\u001b[0m\u001b[0;34m\u001b[0m\u001b[0m\n\u001b[0;32m--> 669\u001b[0;31m                 \u001b[0;32mreturn\u001b[0m \u001b[0mself\u001b[0m\u001b[0;34m.\u001b[0m\u001b[0m_sock\u001b[0m\u001b[0;34m.\u001b[0m\u001b[0mrecv_into\u001b[0m\u001b[0;34m(\u001b[0m\u001b[0mb\u001b[0m\u001b[0;34m)\u001b[0m\u001b[0;34m\u001b[0m\u001b[0;34m\u001b[0m\u001b[0m\n\u001b[0m\u001b[1;32m    670\u001b[0m             \u001b[0;32mexcept\u001b[0m \u001b[0mtimeout\u001b[0m\u001b[0;34m:\u001b[0m\u001b[0;34m\u001b[0m\u001b[0;34m\u001b[0m\u001b[0m\n\u001b[1;32m    671\u001b[0m                 \u001b[0mself\u001b[0m\u001b[0;34m.\u001b[0m\u001b[0m_timeout_occurred\u001b[0m \u001b[0;34m=\u001b[0m \u001b[0;32mTrue\u001b[0m\u001b[0;34m\u001b[0m\u001b[0;34m\u001b[0m\u001b[0m\n",
      "\u001b[0;31mKeyboardInterrupt\u001b[0m: "
     ]
    }
   ],
   "source": [
    "import requests\n",
    "import time\n",
    "\n",
    "link_list = []\n",
    "with open('alexa.txt','r') as file:\n",
    "    file_list = file.readlines()\n",
    "    for eachone in file_list:\n",
    "        link = eachone.split('\\t')[1]\n",
    "        link = link.replace('\\n','')\n",
    "        link_list.append(link)\n",
    "start = time.time()\n",
    "for eachone in link_list:\n",
    "    try:\n",
    "        r = requests.get(eachone)\n",
    "        print(r.status_code, eachone)\n",
    "    except Exception as e:\n",
    "        print('Error: ', e)\n",
    "    end = time.time()\n",
    "    print('串行的总时间为：', end-start)"
   ]
  },
  {
   "cell_type": "code",
   "execution_count": 2,
   "metadata": {},
   "outputs": [
    {
     "name": "stdout",
     "output_type": "stream",
     "text": [
      "main finished\n",
      "thread-1 Fri Dec 11 15:48:36 2020\n",
      "thread-2 Fri Dec 11 15:48:37 2020\n",
      "thread-1 Fri Dec 11 15:48:37 2020\n",
      "thread-1 Fri Dec 11 15:48:38 2020\n",
      "thread-2 Fri Dec 11 15:48:39 2020\n",
      "thread-2 Fri Dec 11 15:48:41 2020\n"
     ]
    }
   ],
   "source": [
    "import _thread\n",
    "import time\n",
    "\n",
    "# 为线程定义一个函数\n",
    "def print_time(threadName, delay):\n",
    "    count = 0\n",
    "    while count < 3:\n",
    "        time.sleep(delay)\n",
    "        count += 1\n",
    "        print(threadName, time.ctime())\n",
    "_thread.start_new_thread(print_time,('thread-1', 1))\n",
    "_thread.start_new_thread(print_time,('thread-2', 2))\n",
    "print('main finished')"
   ]
  },
  {
   "cell_type": "code",
   "execution_count": null,
   "metadata": {},
   "outputs": [],
   "source": [
    "import requests\n",
    "import time\n",
    "import threading\n",
    "\n",
    "link_list = []\n",
    "with open('alexa.txt','r') as file:\n",
    "    file_list = file.readlines()\n",
    "    for eachone in file_list:\n",
    "        link = eachone.split('\\t')[1]\n",
    "        link = link.replace('\\n','')\n",
    "        link_list.append(link)\n",
    "start = time.time()\n",
    "\n",
    "class myThread(threading.Thread):\n",
    "    def __init__(self, name, link_range):\n",
    "        threading.Thread.__init__(self)\n",
    "        self.name = name\n",
    "        self.link_range = link_range\n",
    "    def run(self) -> None:\n",
    "        print('Starting' + self.name)\n",
    "        crawler(self.name, self.link_range)\n",
    "        print('Exiting' + self.name)\n",
    "\n",
    "\n",
    "def crawler(threadName, link_range):\n",
    "    for i in range(link_range[0],link_range[1]+1):\n",
    "        try:\n",
    "            r = requests.get(link_list[i], timeout=20)\n",
    "            print(threadName, r.status_code, link_list[i])\n",
    "        except Exception as e:\n",
    "            print(threadName, 'Error: ', e)\n",
    "\n",
    "thread_list = []\n",
    "link_range_list = [(0,200),(201,400),(401,600),(601,800),(801,1000)]\n",
    "# 创建新线程\n",
    "for i in range(1,6):\n",
    "    thread = myTread('Thread-'+str(i), link_range_list[i-1])\n",
    "    thread.start()\n",
    "    thread_list.append(thread)\n",
    "    \n",
    "# 等待所有线程完成\n",
    "for thread in thread_list:\n",
    "    thread.join()\n",
    "end = time.time()\n",
    "print('简单多线程爬虫时间为：', end-start)\n",
    "print('退出主线程')"
   ]
  },
  {
   "cell_type": "code",
   "execution_count": 4,
   "metadata": {},
   "outputs": [
    {
     "name": "stdout",
     "output_type": "stream",
     "text": [
      "8\n"
     ]
    }
   ],
   "source": [
    "from multiprocessing import cpu_count\n",
    "print(cpu_count())"
   ]
  },
  {
   "cell_type": "code",
   "execution_count": 8,
   "metadata": {},
   "outputs": [
    {
     "name": "stdout",
     "output_type": "stream",
     "text": [
      "Process + Queue多进程爬虫的总时间为:  0.6670229434967041\n",
      "结束所有进程\n"
     ]
    }
   ],
   "source": [
    "from multiprocessing import Process, Queue\n",
    "import time\n",
    "import requests\n",
    "link_list = []\n",
    "with open('alexa.txt', 'r') as file:\n",
    "    file_list = file.readlines()\n",
    "    for eachone in file_list:\n",
    "        link = eachone.split('\\t')[1]\n",
    "        link = link.replace('\\n', '')\n",
    "        link_list.append(link)\n",
    "start = time.time()\n",
    "\n",
    "class myProcess(Process):\n",
    "    def __init__(self, q) -> None:\n",
    "        Process.__init__(self)\n",
    "        self.q = q\n",
    "    def run(self):\n",
    "        print('开始：', self.pid)\n",
    "        while not self.q.empty():\n",
    "            crawler(self.q)\n",
    "        print('退出：', self.pid)\n",
    "\n",
    "def crawler(q):\n",
    "    url = q.get(timeout=2)\n",
    "    try:\n",
    "        r = requests.get(url, timeout=20)\n",
    "        print(q.qsize(), r.status_code, url)\n",
    "    except Exception as e:\n",
    "        print(q.qsize(),url, 'Error:', e)\n",
    "\n",
    "if __name__ == '__main__':\n",
    "    for i in range(1,7):\n",
    "        ProcessNames = ['Process-{}'.format(str(i))]\n",
    "    workQueue = Queue(1000)\n",
    "    # 填充队列\n",
    "    for url in link_list:\n",
    "        workQueue.put(url)\n",
    "    for i in range(0,6):\n",
    "        p = myProcess(workQueue)\n",
    "        p.daemon = True\n",
    "        p.start()\n",
    "        p.join()\n",
    "    end = time.time()\n",
    "    print('Process + Queue多进程爬虫的总时间为: ', end-start)\n",
    "    print('结束所有进程')\n"
   ]
  },
  {
   "cell_type": "code",
   "execution_count": 9,
   "metadata": {},
   "outputs": [],
   "source": [
    "import math"
   ]
  },
  {
   "cell_type": "code",
   "execution_count": 10,
   "metadata": {},
   "outputs": [
    {
     "data": {
      "text/plain": [
       "['/Users/xing_zhi/Code/python_code/jupyter_code',\n",
       " '/Users/xing_zhi/opt/miniconda3/lib/python38.zip',\n",
       " '/Users/xing_zhi/opt/miniconda3/lib/python3.8',\n",
       " '/Users/xing_zhi/opt/miniconda3/lib/python3.8/lib-dynload',\n",
       " '',\n",
       " '/Users/xing_zhi/opt/miniconda3/lib/python3.8/site-packages',\n",
       " '/Users/xing_zhi/opt/miniconda3/lib/python3.8/site-packages/IPython/extensions',\n",
       " '/Users/xing_zhi/.ipython']"
      ]
     },
     "execution_count": 10,
     "metadata": {},
     "output_type": "execute_result"
    }
   ],
   "source": [
    "import sys\n",
    "sys.path"
   ]
  },
  {
   "cell_type": "code",
   "execution_count": 11,
   "metadata": {},
   "outputs": [
    {
     "name": "stdout",
     "output_type": "stream",
     "text": [
      "The Zen of Python, by Tim Peters\n",
      "\n",
      "Beautiful is better than ugly.\n",
      "Explicit is better than implicit.\n",
      "Simple is better than complex.\n",
      "Complex is better than complicated.\n",
      "Flat is better than nested.\n",
      "Sparse is better than dense.\n",
      "Readability counts.\n",
      "Special cases aren't special enough to break the rules.\n",
      "Although practicality beats purity.\n",
      "Errors should never pass silently.\n",
      "Unless explicitly silenced.\n",
      "In the face of ambiguity, refuse the temptation to guess.\n",
      "There should be one-- and preferably only one --obvious way to do it.\n",
      "Although that way may not be obvious at first unless you're Dutch.\n",
      "Now is better than never.\n",
      "Although never is often better than *right* now.\n",
      "If the implementation is hard to explain, it's a bad idea.\n",
      "If the implementation is easy to explain, it may be a good idea.\n",
      "Namespaces are one honking great idea -- let's do more of those!\n"
     ]
    }
   ],
   "source": [
    "import this"
   ]
  },
  {
   "cell_type": "code",
   "execution_count": 12,
   "metadata": {},
   "outputs": [],
   "source": [
    "per_table = {'a':1, 'b':2}"
   ]
  },
  {
   "cell_type": "code",
   "execution_count": 13,
   "metadata": {},
   "outputs": [
    {
     "data": {
      "text/plain": [
       "{'a': 1, 'b': 2}"
      ]
     },
     "execution_count": 13,
     "metadata": {},
     "output_type": "execute_result"
    }
   ],
   "source": [
    "per_table"
   ]
  },
  {
   "cell_type": "code",
   "execution_count": 14,
   "metadata": {},
   "outputs": [
    {
     "name": "stdout",
     "output_type": "stream",
     "text": [
      "3\n",
      "{'a': 1, 'b': 2, 'c': 3}\n"
     ]
    }
   ],
   "source": [
    "c = per_table.setdefault('c', 3)\n",
    "print(c)\n",
    "print(per_table)"
   ]
  },
  {
   "cell_type": "code",
   "execution_count": 15,
   "metadata": {},
   "outputs": [
    {
     "data": {
      "text/plain": [
       "1"
      ]
     },
     "execution_count": 15,
     "metadata": {},
     "output_type": "execute_result"
    }
   ],
   "source": [
    "per_table.setdefault('a', 6)"
   ]
  },
  {
   "cell_type": "code",
   "execution_count": 16,
   "metadata": {},
   "outputs": [
    {
     "data": {
      "text/plain": [
       "{'a': 1, 'b': 2, 'c': 3}"
      ]
     },
     "execution_count": 16,
     "metadata": {},
     "output_type": "execute_result"
    }
   ],
   "source": [
    "per_table"
   ]
  },
  {
   "cell_type": "code",
   "execution_count": 17,
   "metadata": {},
   "outputs": [
    {
     "data": {
      "text/plain": [
       "defaultdict(<function __main__.<lambda>()>, {})"
      ]
     },
     "execution_count": 17,
     "metadata": {},
     "output_type": "execute_result"
    }
   ],
   "source": [
    "from collections import defaultdict\n",
    "per_table = defaultdict(lambda: 'default value')\n",
    "per_table"
   ]
  },
  {
   "cell_type": "code",
   "execution_count": 18,
   "metadata": {},
   "outputs": [
    {
     "data": {
      "text/plain": [
       "defaultdict(<function __main__.<lambda>()>, {'dd': 12})"
      ]
     },
     "execution_count": 18,
     "metadata": {},
     "output_type": "execute_result"
    }
   ],
   "source": [
    "per_table['dd'] = 12\n",
    "per_table"
   ]
  },
  {
   "cell_type": "code",
   "execution_count": 26,
   "metadata": {},
   "outputs": [],
   "source": [
    "import csv\n",
    "\n",
    "dc_heros = [\n",
    "    ['aaa','fds'],\n",
    "    ['fsrf','gfdfd','fsd'],\n",
    "    ['atom','vscode'],\n",
    "    ['python','go','java']\n",
    "]"
   ]
  },
  {
   "cell_type": "code",
   "execution_count": 27,
   "metadata": {},
   "outputs": [],
   "source": [
    "with open('de_heros.csv', 'w') as fout:\n",
    "    csvout = csv.writer(fout)\n",
    "    csvout.writerows(dc_heros)"
   ]
  },
  {
   "cell_type": "code",
   "execution_count": 30,
   "metadata": {},
   "outputs": [
    {
     "name": "stdout",
     "output_type": "stream",
     "text": [
      "[['aaa', 'fds'], ['fsrf', 'gfdfd', 'fsd'], ['atom', 'vscode'], ['python', 'go', 'java']]\n"
     ]
    }
   ],
   "source": [
    "with open('de_heros.csv', 'r') as fin:\n",
    "    csvin = csv.reader(fin)\n",
    "    dc_heross = [row for row in csvin]\n",
    "print(dc_heross)"
   ]
  },
  {
   "cell_type": "code",
   "execution_count": null,
   "metadata": {},
   "outputs": [],
   "source": []
  },
  {
   "cell_type": "code",
   "execution_count": null,
   "metadata": {},
   "outputs": [],
   "source": []
  },
  {
   "cell_type": "code",
   "execution_count": null,
   "metadata": {},
   "outputs": [],
   "source": []
  },
  {
   "cell_type": "code",
   "execution_count": null,
   "metadata": {},
   "outputs": [],
   "source": []
  },
  {
   "cell_type": "code",
   "execution_count": null,
   "metadata": {},
   "outputs": [],
   "source": []
  },
  {
   "cell_type": "code",
   "execution_count": null,
   "metadata": {},
   "outputs": [],
   "source": []
  },
  {
   "cell_type": "code",
   "execution_count": 20,
   "metadata": {},
   "outputs": [
    {
     "data": {
      "text/plain": [
       "12"
      ]
     },
     "execution_count": 20,
     "metadata": {},
     "output_type": "execute_result"
    }
   ],
   "source": [
    "per_table['dd']"
   ]
  },
  {
   "cell_type": "code",
   "execution_count": 21,
   "metadata": {},
   "outputs": [
    {
     "data": {
      "text/plain": [
       "'default value'"
      ]
     },
     "execution_count": 21,
     "metadata": {},
     "output_type": "execute_result"
    }
   ],
   "source": [
    "per_table['dfs']"
   ]
  },
  {
   "cell_type": "code",
   "execution_count": 22,
   "metadata": {},
   "outputs": [
    {
     "name": "stdout",
     "output_type": "stream",
     "text": [
      "Object `Counter` not found.\n"
     ]
    }
   ],
   "source": [
    "?Counter"
   ]
  },
  {
   "cell_type": "code",
   "execution_count": 23,
   "metadata": {},
   "outputs": [],
   "source": [
    "from collections import Counter"
   ]
  },
  {
   "cell_type": "code",
   "execution_count": 24,
   "metadata": {},
   "outputs": [],
   "source": [
    "?Counter"
   ]
  },
  {
   "cell_type": "code",
   "execution_count": null,
   "metadata": {},
   "outputs": [],
   "source": []
  },
  {
   "cell_type": "code",
   "execution_count": null,
   "metadata": {},
   "outputs": [],
   "source": []
  },
  {
   "cell_type": "code",
   "execution_count": null,
   "metadata": {},
   "outputs": [],
   "source": []
  },
  {
   "cell_type": "code",
   "execution_count": null,
   "metadata": {},
   "outputs": [],
   "source": []
  },
  {
   "cell_type": "code",
   "execution_count": null,
   "metadata": {},
   "outputs": [],
   "source": []
  },
  {
   "cell_type": "code",
   "execution_count": null,
   "metadata": {},
   "outputs": [],
   "source": []
  },
  {
   "cell_type": "code",
   "execution_count": null,
   "metadata": {},
   "outputs": [],
   "source": []
  },
  {
   "cell_type": "code",
   "execution_count": null,
   "metadata": {},
   "outputs": [],
   "source": []
  },
  {
   "cell_type": "code",
   "execution_count": null,
   "metadata": {},
   "outputs": [],
   "source": []
  }
 ],
 "metadata": {
  "kernelspec": {
   "display_name": "Python 3",
   "language": "python",
   "name": "python3"
  },
  "language_info": {
   "codemirror_mode": {
    "name": "ipython",
    "version": 3
   },
   "file_extension": ".py",
   "mimetype": "text/x-python",
   "name": "python",
   "nbconvert_exporter": "python",
   "pygments_lexer": "ipython3",
   "version": "3.8.5"
  }
 },
 "nbformat": 4,
 "nbformat_minor": 4
}
